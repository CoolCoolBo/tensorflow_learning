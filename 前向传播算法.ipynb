{
 "cells": [
  {
   "cell_type": "code",
   "execution_count": 1,
   "metadata": {},
   "outputs": [],
   "source": [
    "import tensorflow as tf"
   ]
  },
  {
   "cell_type": "markdown",
   "metadata": {},
   "source": [
    "### 第一部分：定义计算图"
   ]
  },
  {
   "cell_type": "markdown",
   "metadata": {},
   "source": [
    "#### 定义了计算图中所有的计算，但这些被定义的计算在这一步中并没有运行，是在第二部中运行的。"
   ]
  },
  {
   "cell_type": "code",
   "execution_count": 9,
   "metadata": {},
   "outputs": [],
   "source": [
    "# 声明w1、w2两个变量。这里还通过seed参数设定了随机种子，\n",
    "# 这样可以保证每次运行得到的结果是一样的。\n",
    "w1 = tf.Variable(tf.random_normal((2,3), stddev=1, seed=1))\n",
    "w2 = tf.Variable(tf.random_normal((3,1), stddev=1, seed=1))\n",
    "\n",
    "# 暂时将输入的特征向量定义为一个常量。注意这里x是一个1x2的矩阵。\n",
    "x = tf.constant([[0.7, 0.9]])\n",
    "\n",
    "# 前向传波算法获得神经网络的输出。\n",
    "a = tf.matmul(x, w1)\n",
    "y = tf.matmul(a, w2)"
   ]
  },
  {
   "cell_type": "markdown",
   "metadata": {},
   "source": [
    "### 第二部分：通过会话执行计算图"
   ]
  },
  {
   "cell_type": "markdown",
   "metadata": {},
   "source": [
    "#### 声明了一个会话，并通过会话计算结果"
   ]
  },
  {
   "cell_type": "code",
   "execution_count": 10,
   "metadata": {},
   "outputs": [
    {
     "name": "stdout",
     "output_type": "stream",
     "text": [
      "[[3.957578]]\n"
     ]
    }
   ],
   "source": [
    "sess = tf.Session()\n",
    "\n",
    "# 运行y之前需要将所有用到的变量初始化。\n",
    "# sess.run(w1.initializer)\n",
    "# sess.run(w2.initializer)\n",
    "init_op = tf.global_variables_initializer() # tf.blobal_variables()可以拿到当前计算图的所有变量\n",
    "sess.run(init_op)\n",
    "\n",
    "# 执行计算并打印结果\n",
    "print(sess.run(y))\n",
    "sess.close()"
   ]
  },
  {
   "cell_type": "markdown",
   "metadata": {},
   "source": [
    "## 通过placeholder实现前向传播算法"
   ]
  },
  {
   "cell_type": "markdown",
   "metadata": {},
   "source": [
    "#### 这段程序中替换了原来通过常量定义的输入x。需要提供一个feed_dict来指定x的取值"
   ]
  },
  {
   "cell_type": "code",
   "execution_count": 14,
   "metadata": {},
   "outputs": [
    {
     "name": "stdout",
     "output_type": "stream",
     "text": [
      "[[3.957578]]\n"
     ]
    }
   ],
   "source": [
    "w1 = tf.Variable(tf.random_normal([2, 3], stddev=1, seed=1))\n",
    "w2 = tf.Variable(tf.random_normal([3, 1], stddev=1, seed=1))\n",
    "\n",
    "# 定义placeholder作为存放输入数据的地方。这里维度不一定要定义。\n",
    "# 但如果维度是确定的，那么给出维度可以降低出错的概率。\n",
    "x = tf.placeholder(tf.float32, shape=(1, 2), name=\"input\")\n",
    "a = tf.matmul(x, w1)\n",
    "y = tf.matmul(a, w2)\n",
    "\n",
    "sess = tf.Session()\n",
    "init_op = tf.global_variables_initializer()\n",
    "sess.run(init_op)\n",
    "\n",
    "# 下面一行将会得到和上面一样的输出结果\n",
    "print(sess.run(y, feed_dict={x: [[0.7, 0.9]]}))"
   ]
  }
 ],
 "metadata": {
  "kernelspec": {
   "display_name": "Python 3",
   "language": "python",
   "name": "python3"
  },
  "language_info": {
   "codemirror_mode": {
    "name": "ipython",
    "version": 3
   },
   "file_extension": ".py",
   "mimetype": "text/x-python",
   "name": "python",
   "nbconvert_exporter": "python",
   "pygments_lexer": "ipython3",
   "version": "3.6.2"
  }
 },
 "nbformat": 4,
 "nbformat_minor": 2
}
