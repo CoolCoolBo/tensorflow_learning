{
 "cells": [
  {
   "cell_type": "markdown",
   "metadata": {},
   "source": [
    "### 在模拟数据集上面训练神经网络。下面给出了一个完整的程序来训练神经网络解决二分类问题。"
   ]
  },
  {
   "cell_type": "code",
   "execution_count": 2,
   "metadata": {},
   "outputs": [],
   "source": [
    "import tensorflow as tf\n",
    "from numpy.random import RandomState"
   ]
  },
  {
   "cell_type": "code",
   "execution_count": 15,
   "metadata": {},
   "outputs": [
    {
     "name": "stdout",
     "output_type": "stream",
     "text": [
      "训练前的参数：\n",
      "w1: [[-0.8113182   1.4845988   0.06532937]\n",
      " [-2.4427042   0.0992484   0.5912243 ]]\n",
      "w2: [[-0.8113182 ]\n",
      " [ 1.4845988 ]\n",
      " [ 0.06532937]]\n",
      "After 0 training step(s), cross entropy on all data is 0.314006\n",
      "After 1000 training step(s), cross entropy on all data is 0.0684551\n",
      "After 2000 training step(s), cross entropy on all data is 0.033715\n",
      "After 3000 training step(s), cross entropy on all data is 0.020558\n",
      "After 4000 training step(s), cross entropy on all data is 0.0136867\n",
      "训练后的参数：\n",
      "w1: [[-2.548655   3.0793087  2.8951712]\n",
      " [-4.1112747  1.6259071  3.3972702]]\n",
      "w2: [[-2.3230937]\n",
      " [ 3.3011687]\n",
      " [ 2.4632082]]\n"
     ]
    }
   ],
   "source": [
    "# 定义训练数据batch的大小\n",
    "batch_size = 8\n",
    "\n",
    "# 定义神经网络的参数。\n",
    "w1 = tf.Variable(tf.random_normal([2, 3], stddev=1, seed=1))\n",
    "w2 = tf.Variable(tf.random_normal([3, 1], stddev=1, seed=1))\n",
    "\n",
    "# 在shape的一个维度上使用None可以方便使用不同的batch大小。在训练时需要把数据\n",
    "# 分成比较小的batch，但是在测试时候，可以一次性使用全部的数据。\n",
    "# 当数据集比较小时这样比较方便测试，但数据集比较大时，将大量数据放入一个batch可能会导致内存溢出。\n",
    "x = tf.placeholder(tf.float32, shape=(None, 2), name='x-input')\n",
    "y_ = tf.placeholder(tf.float32, shape=(None, 1), name='y-input')\n",
    "\n",
    "# 定义神经网络前向传播的过程\n",
    "a = tf.matmul(x, w1)\n",
    "y = tf.matmul(a, w2)\n",
    "\n",
    "# 定义损失函数和反向传播算法。\n",
    "y = tf.sigmoid(y)\n",
    "cross_entropy = -tf.reduce_mean(y_ * tf.log(tf.clip_by_value(y, 1e-10, 1.0)) + (1-y) * tf.log(tf.clip_by_value(1-y, 1e-10, 1.0)))\n",
    "train_step = tf.train.AdamOptimizer(0.001).minimize(cross_entropy)\n",
    "\n",
    "# 通过随机数生成一个模拟数据集.\n",
    "rdm = RandomState(1)\n",
    "dataset_size = 128\n",
    "X = rdm.rand(dataset_size, 2)\n",
    "\n",
    "# 定义规则来给出样本的标签。在这里所有x1+x2<1的样例都被认为是正样本（比如零件合格），\n",
    "# 而其他为负样本。\n",
    "Y = [[int((x1+x2) < 1)] for (x1, x2) in X]\n",
    "\n",
    "# 创建一个会话来运行TensorFlow程序。\n",
    "with tf.Session() as sess:\n",
    "    init_op = tf.global_variables_initializer()\n",
    "    # 初始化变量\n",
    "    sess.run(init_op)\n",
    "    \n",
    "    print('训练前的参数：')\n",
    "    print('w1:', sess.run(w1))\n",
    "    print('w2:', sess.run(w2))\n",
    "    \n",
    "    '''    \n",
    "    在训练之前神经网络参数的值：\n",
    "    wl = [[-0.81131822 , 1.48459876 , 0.06532937)\n",
    "            [-2.44270396 , 0.0992484 , 0.59122431]]\n",
    "    w2 = [[-0.81131822) , [1.48459876) , [0.06532937]]\n",
    "    \n",
    "    '''\n",
    "    \n",
    "    # 设定训练的轮数\n",
    "    STEPS = 5000\n",
    "    for i in range(STEPS):\n",
    "        # 每次选取batch_size个样本尽快训练。\n",
    "        start = (i * batch_size) % dataset_size\n",
    "        end = min(start+batch_size, dataset_size)\n",
    "\n",
    "        # 通过选取的样本训练神经网络并更新参数。\n",
    "        sess.run(train_step, feed_dict={x: X[start:end], y_: Y[start:end]})\n",
    "        if i % 1000 == 0:\n",
    "            # 每隔一段时间计算在所有数据上的交叉熵输出。\n",
    "            total_cross_entropy = sess.run(cross_entropy, feed_dict={x: X, y_:Y})\n",
    "            print(\"After %d training step(s), cross entropy on all data is %g\"%(i, total_cross_entropy))\n",
    "            \n",
    "    print('训练后的参数：')\n",
    "    print('w1:', sess.run(w1))\n",
    "    print('w2:', sess.run(w2))"
   ]
  },
  {
   "cell_type": "raw",
   "metadata": {},
   "source": [
    "以上程序实现了训练神经网络的全部过程。从这段程序可以总结出训练神经网络的过程可以分为以下三个步骤 ：\n",
    "1. 定义神经网络的结构和前向传播的输出结果。\n",
    "2. 定义损失函数以及选择反向传播优化的算法 。\n",
    "3. 生成会话（tf.Session）并且在训练数据上反复运行反向传播优化算法 。\n",
    "无论神经网络的结构如何变化，这三个步骤是不变的 。"
   ]
  }
 ],
 "metadata": {
  "kernelspec": {
   "display_name": "Python 3",
   "language": "python",
   "name": "python3"
  },
  "language_info": {
   "codemirror_mode": {
    "name": "ipython",
    "version": 3
   },
   "file_extension": ".py",
   "mimetype": "text/x-python",
   "name": "python",
   "nbconvert_exporter": "python",
   "pygments_lexer": "ipython3",
   "version": "3.6.2"
  }
 },
 "nbformat": 4,
 "nbformat_minor": 2
}
