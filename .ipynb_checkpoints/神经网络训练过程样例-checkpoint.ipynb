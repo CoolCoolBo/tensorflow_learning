{
 "cells": [
  {
   "cell_type": "code",
   "execution_count": 1,
   "metadata": {},
   "outputs": [],
   "source": [
    "import tensorflow as tf\n",
    "from numpy.random import RandomState"
   ]
  },
  {
   "cell_type": "code",
   "execution_count": null,
   "metadata": {},
   "outputs": [],
   "source": [
    "batch_size = n\n",
    "\n",
    "# 每次读取一小部分数据作为当前的训练数据来执行反向传播算法。\n",
    "x = tf.placeholder(tf.float32, shape=(batch_size, 2), name='x-input')\n",
    "y+ = tf.placeholder(tf.float32, shape=(batch_size, 1), name='y-input')\n",
    "\n",
    "# 定义神经网络结构和优化算法\n",
    "loss = ...\n",
    "train_step = tf.train.AdamOptimizer(0.001).minimize(loss)\n",
    "\n",
    "# 训练神经网络。\n",
    "with tf.Session() as sess:\n",
    "    # 参数初始化。\n",
    "    ...\n",
    "    # 迭代的更新参数。\n",
    "    for i in range(STEPS):\n",
    "        # 准备batch_size个训练数据。一般将所有训练数据随机打乱之后再选取可以得到更好的优化效果。\n",
    "        current_X, current_Y = ...\n",
    "        sess.run(train_step, feed_dict={x: current_X, y_: current_Y})"
   ]
  }
 ],
 "metadata": {
  "kernelspec": {
   "display_name": "Python 3",
   "language": "python",
   "name": "python3"
  },
  "language_info": {
   "codemirror_mode": {
    "name": "ipython",
    "version": 3
   },
   "file_extension": ".py",
   "mimetype": "text/x-python",
   "name": "python",
   "nbconvert_exporter": "python",
   "pygments_lexer": "ipython3",
   "version": "3.6.2"
  }
 },
 "nbformat": 4,
 "nbformat_minor": 2
}
