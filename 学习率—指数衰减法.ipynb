{
 "cells": [
  {
   "cell_type": "code",
   "execution_count": null,
   "metadata": {},
   "outputs": [],
   "source": [
    "global_step = tf.Variable(0)\n",
    "\n",
    "# 通过exponential_decay函数生成学习率.\n",
    "# 设定了初始学习率0.1，因为指定了staircase=True,所有每训练100轮后学习率乘以0.96\n",
    "learning_rate = tf.train.exponential_decay(0.1, global_step, 100, 0.96, staircase=True)\n",
    "\n",
    "# 使用指数衰减的学习率。在minimize函数中传入global_step将自动更新global_step参数，\n",
    "# 从而使得学习率也得到相应更新\n",
    "learning_step = tf.train.GradientDescentOptimizer(learning_rate).minimize(...my loss.., global_step=global_step)"
   ]
  }
 ],
 "metadata": {
  "kernelspec": {
   "display_name": "Python 3",
   "language": "python",
   "name": "python3"
  },
  "language_info": {
   "codemirror_mode": {
    "name": "ipython",
    "version": 3
   },
   "file_extension": ".py",
   "mimetype": "text/x-python",
   "name": "python",
   "nbconvert_exporter": "python",
   "pygments_lexer": "ipython3",
   "version": "3.6.2"
  }
 },
 "nbformat": 4,
 "nbformat_minor": 2
}
